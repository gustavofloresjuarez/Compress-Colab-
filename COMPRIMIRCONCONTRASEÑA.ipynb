{
  "nbformat": 4,
  "nbformat_minor": 0,
  "metadata": {
    "colab": {
      "provenance": []
    },
    "kernelspec": {
      "name": "python3",
      "display_name": "Python 3"
    },
    "language_info": {
      "name": "python"
    }
  },
  "cells": [
    {
      "cell_type": "code",
      "source": [
        "!pip install pyzipper\n"
      ],
      "metadata": {
        "colab": {
          "base_uri": "https://localhost:8080/"
        },
        "id": "gPAHwCiQiEnJ",
        "outputId": "61a12c1e-2056-4cfe-c35c-9afb43c64057"
      },
      "execution_count": 1,
      "outputs": [
        {
          "output_type": "stream",
          "name": "stdout",
          "text": [
            "Collecting pyzipper\n",
            "  Downloading pyzipper-0.3.6-py2.py3-none-any.whl (67 kB)\n",
            "\u001b[2K     \u001b[90m━━━━━━━━━━━━━━━━━━━━━━━━━━━━━━━━━━━━━━━━\u001b[0m \u001b[32m67.7/67.7 kB\u001b[0m \u001b[31m2.4 MB/s\u001b[0m eta \u001b[36m0:00:00\u001b[0m\n",
            "\u001b[?25hCollecting pycryptodomex (from pyzipper)\n",
            "  Downloading pycryptodomex-3.20.0-cp35-abi3-manylinux_2_17_x86_64.manylinux2014_x86_64.whl (2.1 MB)\n",
            "\u001b[2K     \u001b[90m━━━━━━━━━━━━━━━━━━━━━━━━━━━━━━━━━━━━━━━━\u001b[0m \u001b[32m2.1/2.1 MB\u001b[0m \u001b[31m29.1 MB/s\u001b[0m eta \u001b[36m0:00:00\u001b[0m\n",
            "\u001b[?25hInstalling collected packages: pycryptodomex, pyzipper\n",
            "Successfully installed pycryptodomex-3.20.0 pyzipper-0.3.6\n"
          ]
        }
      ]
    },
    {
      "cell_type": "markdown",
      "source": [
        "# **PORCENTAJE**"
      ],
      "metadata": {
        "id": "O2gulPbHn_7Z"
      }
    },
    {
      "cell_type": "markdown",
      "source": [
        "Compress"
      ],
      "metadata": {
        "id": "lcENf0kInZRA"
      }
    },
    {
      "cell_type": "code",
      "source": [
        "import os\n",
        "import pyzipper\n",
        "import shutil\n",
        "from tqdm import tqdm\n",
        "\n",
        "# Solicitar al usuario que ingrese la ruta de la carpeta principal\n",
        "ruta_carpeta_principal = input(\"Ingrese la ruta de la carpeta principal: \")\n",
        "\n",
        "# Solicitar al usuario que ingrese la contraseña\n",
        "contrasena = input(\"Ingrese la contraseña para la compresión (deje en blanco si no desea contraseña): \")\n",
        "\n",
        "# Función para comprimir una carpeta en un archivo ZIP con contraseña\n",
        "def comprimir_carpeta(carpeta, contrasena=None):\n",
        "    # Ruta completa de la carpeta a comprimir\n",
        "    ruta_carpeta = os.path.join(ruta_carpeta_principal, carpeta)\n",
        "    # Ruta completa del archivo ZIP resultante\n",
        "    ruta_zip = os.path.join(ruta_carpeta_principal, carpeta + '.zip')\n",
        "\n",
        "    # Convertir la contraseña a bytes si se proporciona\n",
        "    if contrasena:\n",
        "        contrasena_bytes = contrasena.encode('utf-8')\n",
        "    else:\n",
        "        contrasena_bytes = None\n",
        "\n",
        "    # Lista de archivos a agregar al ZIP\n",
        "    archivos_a_comprimir = []\n",
        "    for root, _, files in os.walk(ruta_carpeta):\n",
        "        for file in files:\n",
        "            ruta_archivo = os.path.join(root, file)\n",
        "            archivos_a_comprimir.append((ruta_archivo, os.path.relpath(ruta_archivo, ruta_carpeta)))\n",
        "\n",
        "    # Crear archivo ZIP con o sin contraseña\n",
        "    with pyzipper.AESZipFile(ruta_zip, 'w', compression=pyzipper.ZIP_DEFLATED, encryption=pyzipper.WZ_AES) as zipf:\n",
        "        if contrasena_bytes:\n",
        "            zipf.setpassword(contrasena_bytes)\n",
        "\n",
        "        # Utilizar tqdm para mostrar una barra de progreso en porcentaje\n",
        "        for archivo, rel_path in tqdm(archivos_a_comprimir, desc=f\"Comprimiendo {carpeta}\", unit=\"%\"):\n",
        "            # Agregar cada archivo individual al ZIP\n",
        "            zipf.write(archivo, rel_path)\n",
        "\n",
        "# Comprimir cada subcarpeta por separado y luego eliminarlas\n",
        "for nombre_carpeta in os.listdir(ruta_carpeta_principal):\n",
        "    ruta_subcarpeta = os.path.join(ruta_carpeta_principal, nombre_carpeta)\n",
        "    if os.path.isdir(ruta_subcarpeta):\n",
        "        comprimir_carpeta(nombre_carpeta, contrasena)\n",
        "        # Eliminar la subcarpeta después de comprimir\n",
        "        shutil.rmtree(ruta_subcarpeta)\n"
      ],
      "metadata": {
        "colab": {
          "base_uri": "https://localhost:8080/"
        },
        "id": "s54Fw2pNoHqb",
        "outputId": "246de48a-2c6c-4fc4-f362-ba7ba3ac46df"
      },
      "execution_count": 2,
      "outputs": [
        {
          "output_type": "stream",
          "name": "stderr",
          "text": [
            "Comprimiendo Sonic Youth - Washing Machine (2016 Remaster): 100%|██████████| 11/11 [02:23<00:00, 13.00s/%]\n",
            "Comprimiendo Sonic Youth - Goo (2016 Remaster): 100%|██████████| 11/11 [02:07<00:00, 11.57s/%]\n",
            "Comprimiendo Sonic Youth - Dirty (2016 Remaster): 100%|██████████| 16/16 [02:38<00:00,  9.90s/%]\n",
            "Comprimiendo Sonic Youth - The Diamond Sea (2016 Remaster): 100%|██████████| 3/3 [01:26<00:00, 28.67s/%]\n",
            "Comprimiendo Sonic Youth - Murray Street (Remaster): 100%|██████████| 7/7 [01:44<00:00, 14.88s/%]\n",
            "Comprimiendo Sonic Youth - Sonic Nurse (Remaster): 100%|██████████| 10/10 [02:22<00:00, 14.27s/%]\n",
            "Comprimiendo Sonic Youth - Rather Ripped (Remaster): 100%|██████████| 12/12 [02:07<00:00, 10.59s/%]\n",
            "Comprimiendo Sonic Youth - NYC Ghosts & Flowers (Remaster): 100%|██████████| 8/8 [00:58<00:00,  7.35s/%]\n",
            "Comprimiendo Sonic Youth - A Thousand Leaves (Remaster): 100%|██████████| 11/11 [01:44<00:00,  9.52s/%]\n"
          ]
        }
      ]
    }
  ]
}